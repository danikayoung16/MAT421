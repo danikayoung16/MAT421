{
  "nbformat": 4,
  "nbformat_minor": 0,
  "metadata": {
    "colab": {
      "provenance": [],
      "authorship_tag": "ABX9TyMhgCYD3jLA96lQC1YEzgk+",
      "include_colab_link": true
    },
    "kernelspec": {
      "name": "python3",
      "display_name": "Python 3"
    },
    "language_info": {
      "name": "python"
    }
  },
  "cells": [
    {
      "cell_type": "markdown",
      "metadata": {
        "id": "view-in-github",
        "colab_type": "text"
      },
      "source": [
        "<a href=\"https://colab.research.google.com/github/danikayoung16/MAT421/blob/main/ModuleD.ipynb\" target=\"_parent\"><img src=\"https://colab.research.google.com/assets/colab-badge.svg\" alt=\"Open In Colab\"/></a>"
      ]
    },
    {
      "cell_type": "markdown",
      "source": [
        "Module D: Section 1.1, 1.2, 1.3, 1.4\n",
        "\n",
        "Danika Young\n"
      ],
      "metadata": {
        "id": "-tazpdYWYSTO"
      }
    },
    {
      "cell_type": "markdown",
      "source": [
        "# Linear Algebra Concepts\n",
        "\n",
        "## Linear Space\n",
        "\n",
        "A **linear space (vector space)** is a set of vectors that can be added together and scaled by real numbers (scalars). A vector space must satisfy these properties:\n",
        "\n",
        "1. **Closure under addition**: The sum of any two vectors in the space is also in the space.\n",
        "2. **Closure under scalar multiplication**: Multiplying any vector by a scalar results in another vector in the space.\n",
        "3. **Existence of zero vector**: There is a special vector (zero vector) that, when added to any vector, leaves it unchanged.\n",
        "4. **Existence of additive inverses**: Each vector has an inverse that, when added to the original, results in the zero vector.\n",
        "\n",
        "For example, **R²** (the two-dimensional plane) is a vector space because it satisfies these properties.\n",
        "\n"
      ],
      "metadata": {
        "id": "yV9m-9yxYdqh"
      }
    },
    {
      "cell_type": "code",
      "source": [
        "import numpy as np\n",
        "\n",
        "# Define two vectors\n",
        "v1 = np.array([1, 2])\n",
        "v2 = np.array([3, 4])\n",
        "\n",
        "# Scalar multiplication and vector addition\n",
        "alpha = 2\n",
        "beta = -1\n",
        "linear_combination = alpha * v1 + beta * v2\n",
        "\n",
        "print(\"Vector 1:\", v1)\n",
        "print(\"Vector 2:\", v2)\n",
        "print(\"Linear Combination (2*v1 - 1*v2):\", linear_combination)\n"
      ],
      "metadata": {
        "colab": {
          "base_uri": "https://localhost:8080/"
        },
        "id": "XrJmIjoKbQcc",
        "outputId": "36cb7dc0-3b02-4db7-8f8b-fcdfdca3c17f"
      },
      "execution_count": 1,
      "outputs": [
        {
          "output_type": "stream",
          "name": "stdout",
          "text": [
            "Vector 1: [1 2]\n",
            "Vector 2: [3 4]\n",
            "Linear Combination (2*v1 - 1*v2): [-1  0]\n"
          ]
        }
      ]
    },
    {
      "cell_type": "code",
      "source": [
        "import numpy as np\n",
        "\n",
        "# Define a set of vectors in R^3\n",
        "v1 = np.array([1, 2, 3])\n",
        "v2 = np.array([4, 5, 6])\n",
        "v3 = np.array([7, 8, 9])\n",
        "\n",
        "# Stack them into a matrix\n",
        "V = np.vstack([v1, v2, v3])\n",
        "\n",
        "# Compute the rank of the matrix\n",
        "rank = np.linalg.matrix_rank(V)\n",
        "\n",
        "print(\"Matrix formed by vectors:\\n\", V)\n",
        "print(\"Rank of the matrix:\", rank)\n",
        "\n",
        "# If rank is 3 (full rank), the vectors span R^3\n",
        "if rank == 3:\n",
        "    print(\"These vectors span R^3.\")\n",
        "else:\n",
        "    print(\"These vectors do NOT span R^3.\")\n"
      ],
      "metadata": {
        "colab": {
          "base_uri": "https://localhost:8080/"
        },
        "id": "lI1vTnXab85j",
        "outputId": "42da6dd2-8012-403b-8f2a-da668adaf7b3"
      },
      "execution_count": 5,
      "outputs": [
        {
          "output_type": "stream",
          "name": "stdout",
          "text": [
            "Matrix formed by vectors:\n",
            " [[1 2 3]\n",
            " [4 5 6]\n",
            " [7 8 9]]\n",
            "Rank of the matrix: 2\n",
            "These vectors do NOT span R^3.\n"
          ]
        }
      ]
    },
    {
      "cell_type": "markdown",
      "source": [
        "## Orthogonality\n",
        "\n",
        "**Orthogonality** refers to the relationship between two vectors when their dot product is zero. If two vectors **v** and **w** are orthogonal, they are **perpendicular** in space.\n",
        "\n",
        "The dot product of two vectors **v** and **w** is given by:\n",
        "\n",
        "$\n",
        "v \\cdot w = v_1w_1 + v_2w_2 + \\dots + v_nw_n\n",
        "$\n",
        "\n",
        "If $ v \\cdot w = 0 $, then the vectors are orthogonal.\n",
        "\n",
        "\n",
        "**Example:**  \n",
        "In **R²**, the vectors **(1,0)** and **(0,1)** are orthogonal because:\n",
        "\n",
        "$\n",
        "(1,0) \\cdot (0,1) = 1(0) + 0(1) = 0\n",
        "$\n",
        "\n",
        "This means the vectors are at a **90-degree angle** to each other."
      ],
      "metadata": {
        "id": "GZ6XbnoPY7D4"
      }
    },
    {
      "cell_type": "code",
      "source": [
        "# Define two orthogonal vectors\n",
        "v1 = np.array([1, 0])\n",
        "v2 = np.array([0, 1])\n",
        "\n",
        "# Compute dot product\n",
        "dot_product = np.dot(v1, v2)\n",
        "\n",
        "print(\"Dot product of v1 and v2:\", dot_product)  # Should be 0\n"
      ],
      "metadata": {
        "colab": {
          "base_uri": "https://localhost:8080/"
        },
        "id": "NYcHyRwIbWvE",
        "outputId": "07da1e51-1378-46e6-b098-4dc290e663d6"
      },
      "execution_count": 2,
      "outputs": [
        {
          "output_type": "stream",
          "name": "stdout",
          "text": [
            "Dot product of v1 and v2: 0\n"
          ]
        }
      ]
    },
    {
      "cell_type": "code",
      "source": [
        "def gram_schmidt(vectors):\n",
        "    \"\"\"Applies Gram-Schmidt process to obtain an orthonormal basis.\"\"\"\n",
        "    orthonormal_basis = []\n",
        "    for v in vectors:\n",
        "        w = v - sum(np.dot(v, b) * b for b in orthonormal_basis)  # Projection subtraction\n",
        "        w = w / np.linalg.norm(w)  # Normalize\n",
        "        orthonormal_basis.append(w)\n",
        "    return np.array(orthonormal_basis)\n",
        "\n",
        "# Define a set of linearly independent vectors in R^3\n",
        "vectors = np.array([\n",
        "    [1, 1, 0],\n",
        "    [1, 0, 1],\n",
        "    [0, 1, 1]\n",
        "])\n",
        "\n",
        "# Apply Gram-Schmidt process\n",
        "orthonormal_vectors = gram_schmidt(vectors)\n",
        "\n",
        "print(\"Original Vectors:\\n\", vectors)\n",
        "print(\"Orthonormal Basis:\\n\", orthonormal_vectors)\n",
        "\n",
        "# Verify orthogonality (dot product should be zero)\n",
        "dot_products = np.dot(orthonormal_vectors, orthonormal_vectors.T)\n",
        "print(\"Dot Product Matrix (Should be Identity):\\n\", dot_products)\n"
      ],
      "metadata": {
        "colab": {
          "base_uri": "https://localhost:8080/"
        },
        "id": "hlWXtDZDcWDh",
        "outputId": "d8613511-4f5a-401c-c6f1-1615350d22f4"
      },
      "execution_count": 6,
      "outputs": [
        {
          "output_type": "stream",
          "name": "stdout",
          "text": [
            "Original Vectors:\n",
            " [[1 1 0]\n",
            " [1 0 1]\n",
            " [0 1 1]]\n",
            "Orthonormal Basis:\n",
            " [[ 0.70710678  0.70710678  0.        ]\n",
            " [ 0.40824829 -0.40824829  0.81649658]\n",
            " [-0.57735027  0.57735027  0.57735027]]\n",
            "Dot Product Matrix (Should be Identity):\n",
            " [[ 1.00000000e+00  1.03018891e-16  1.51811967e-16]\n",
            " [ 1.03018891e-16  1.00000000e+00 -1.59104334e-16]\n",
            " [ 1.51811967e-16 -1.59104334e-16  1.00000000e+00]]\n"
          ]
        }
      ]
    },
    {
      "cell_type": "markdown",
      "source": [
        "## Eigenvalues & Eigenvectors\n",
        "\n",
        "**Eigenvalues** and **eigenvectors** are fundamental in linear algebra and are used in many applications, including **machine learning, physics, and engineering**.\n",
        "\n",
        "For a **square matrix** $A$, the **eigenvalues** $lambda$ and **eigenvectors** $ v $ satisfy the equation:\n",
        "\n",
        "$\n",
        "A v = \\lambda v\n",
        "$\n",
        "\n",
        "Where:\n",
        "- $A $ is an **n × n matrix**.\n",
        "- $ v $ is an **eigenvector** (a nonzero vector that does not change direction under transformation).\n",
        "- $lambda$ is the **eigenvalue** (a scalar that represents how much the eigenvector is stretched or compressed).\n",
        "\n",
        "Eigenvalues provide insight into **stability, transformations, and dimensionality reduction** (like **Principal Component Analysis (PCA)**).\n",
        "\n",
        "**Example:**  \n",
        "If matrix $A$ represents a transformation, the eigenvectors are the directions that remain unchanged, and eigenvalues indicate the scaling factor.\n"
      ],
      "metadata": {
        "id": "2M49y8AwY9IJ"
      }
    },
    {
      "cell_type": "code",
      "source": [
        "# Define a matrix\n",
        "A = np.array([[4, -2],\n",
        "              [1,  1]])\n",
        "\n",
        "# Compute eigenvalues and eigenvectors\n",
        "eigenvalues, eigenvectors = np.linalg.eig(A)\n",
        "\n",
        "print(\"Eigenvalues:\", eigenvalues)\n",
        "print(\"Eigenvectors:\\n\", eigenvectors)\n"
      ],
      "metadata": {
        "colab": {
          "base_uri": "https://localhost:8080/"
        },
        "id": "exNEkIjlbZxm",
        "outputId": "59fd7eec-0669-415b-f49e-e4f48b000e67"
      },
      "execution_count": 3,
      "outputs": [
        {
          "output_type": "stream",
          "name": "stdout",
          "text": [
            "Eigenvalues: [3. 2.]\n",
            "Eigenvectors:\n",
            " [[0.89442719 0.70710678]\n",
            " [0.4472136  0.70710678]]\n"
          ]
        }
      ]
    },
    {
      "cell_type": "code",
      "source": [
        "# Define a square matrix\n",
        "A = np.array([[6, 2, 1],\n",
        "              [2, 3, 1],\n",
        "              [1, 1, 1]])\n",
        "\n",
        "# Compute eigenvalues and eigenvectors\n",
        "eigenvalues, eigenvectors = np.linalg.eig(A)\n",
        "\n",
        "print(\"Eigenvalues:\\n\", eigenvalues)\n",
        "print(\"Eigenvectors:\\n\", eigenvectors)\n",
        "\n",
        "# Verify Eigen decomposition: A = VΛV^(-1)\n",
        "V = eigenvectors  # Eigenvectors matrix\n",
        "Λ = np.diag(eigenvalues)  # Diagonal matrix of eigenvalues\n",
        "V_inv = np.linalg.inv(V)  # Inverse of eigenvectors matrix\n",
        "\n",
        "A_reconstructed = V @ Λ @ V_inv  # Eigen decomposition formula\n",
        "print(\"Reconstructed A:\\n\", A_reconstructed)\n"
      ],
      "metadata": {
        "colab": {
          "base_uri": "https://localhost:8080/"
        },
        "id": "-CxI7f2UcY-j",
        "outputId": "17f69336-8b52-434e-b8aa-b5c65008673f"
      },
      "execution_count": 7,
      "outputs": [
        {
          "output_type": "stream",
          "name": "stdout",
          "text": [
            "Eigenvalues:\n",
            " [7.28799214 2.13307448 0.57893339]\n",
            "Eigenvectors:\n",
            " [[ 0.86643225  0.49742503 -0.0431682 ]\n",
            " [ 0.45305757 -0.8195891  -0.35073145]\n",
            " [ 0.20984279 -0.28432735  0.9354806 ]]\n",
            "Reconstructed A:\n",
            " [[6. 2. 1.]\n",
            " [2. 3. 1.]\n",
            " [1. 1. 1.]]\n"
          ]
        }
      ]
    },
    {
      "cell_type": "markdown",
      "source": [
        "## Linear Regression\n",
        "\n",
        "**Linear regression** is a statistical method used to model the relationship between a dependent variable (**y**) and one or more independent variables (**X**). The goal is to find a **best-fit line** that minimizes errors.\n",
        "\n",
        "The equation of a simple linear regression model is:\n",
        "\n",
        "$\n",
        "y = mx + b\n",
        "$\n",
        "\n",
        "Where:\n",
        "- $ m$ = **slope** - rate of change of $y $ with respect to $X $\n",
        "- $b $ = **intercept** - value of  $y $ when $ X = 0 $\n",
        "- $ X $ = **independent variable (input)**\n",
        "- $ y $ = **dependent variable (output)**\n",
        "\n",
        "\n",
        "Steps in Linear Regression:\n",
        "\n",
        "\n",
        "\n",
        "1.  Collect data points $(X, y)$.\n",
        "2.  Fit a best-fit line by minimizing the sum of squared differences between predicted and actual values.\n",
        "3. Use the model to make predictions.\n",
        "\n"
      ],
      "metadata": {
        "id": "RkzRh4lcY_Ok"
      }
    },
    {
      "cell_type": "code",
      "source": [
        "import numpy as np\n",
        "import matplotlib.pyplot as plt\n",
        "from sklearn.linear_model import LinearRegression\n",
        "\n",
        "# Generate synthetic data\n",
        "np.random.seed(42)\n",
        "X = np.random.rand(100, 1) * 10  # Feature values\n",
        "y = 3 * X + 7 + np.random.randn(100, 1) * 3  # y = 3X + 7 + noise\n",
        "\n",
        "# Create and fit the model\n",
        "model = LinearRegression()\n",
        "model.fit(X, y)\n",
        "\n",
        "# Predictions\n",
        "y_pred = model.predict(X)\n",
        "\n",
        "# Plot results\n",
        "plt.scatter(X, y, color=\"blue\", label=\"Data Points\")\n",
        "plt.plot(X, y_pred, color=\"red\", label=\"Linear Fit\")\n",
        "plt.xlabel(\"X values\")\n",
        "plt.ylabel(\"Y values\")\n",
        "plt.title(\"Linear Regression Fit\")\n",
        "plt.legend()\n",
        "plt.show()\n",
        "\n",
        "# Print slope and intercept\n",
        "print(\"Slope (m):\", model.coef_[0][0])\n",
        "print(\"Intercept (b):\", model.intercept_[0])\n"
      ],
      "metadata": {
        "colab": {
          "base_uri": "https://localhost:8080/",
          "height": 506
        },
        "id": "1cjDY7kpbdDi",
        "outputId": "17693a10-b76e-4dad-91f6-b8f361b002e6"
      },
      "execution_count": 4,
      "outputs": [
        {
          "output_type": "display_data",
          "data": {
            "text/plain": [
              "<Figure size 640x480 with 1 Axes>"
            ],
            "image/png": "[encoded data removed]"
          },
          "metadata": {}
        },
        {
          "output_type": "stream",
          "name": "stdout",
          "text": [
            "Slope (m): 2.86206803186309\n",
            "Intercept (b): 7.645288472640251\n"
          ]
        }
      ]
    },
    {
      "cell_type": "code",
      "source": [
        "from sklearn.preprocessing import PolynomialFeatures\n",
        "from sklearn.pipeline import make_pipeline\n",
        "\n",
        "# Generate synthetic data (quadratic relationship)\n",
        "X = np.linspace(0, 10, 100).reshape(-1, 1)\n",
        "y = 5 + 2 * X - 0.5 * X**2 + np.random.randn(100, 1) * 2  # Quadratic equation with noise\n",
        "\n",
        "# Fit a polynomial regression model\n",
        "degree = 2  # Quadratic\n",
        "poly_model = make_pipeline(PolynomialFeatures(degree), LinearRegression())\n",
        "poly_model.fit(X, y)\n",
        "\n",
        "# Predictions\n",
        "y_pred = poly_model.predict(X)\n",
        "\n",
        "# Plot results\n",
        "plt.scatter(X, y, color=\"blue\", label=\"Data Points\")\n",
        "plt.plot(X, y_pred, color=\"red\", label=f\"Polynomial Fit (Degree {degree})\")\n",
        "plt.xlabel(\"X values\")\n",
        "plt.ylabel(\"Y values\")\n",
        "plt.title(\"Polynomial Regression\")\n",
        "plt.legend()\n",
        "plt.show()\n"
      ],
      "metadata": {
        "colab": {
          "base_uri": "https://localhost:8080/",
          "height": 472
        },
        "id": "zIZjbmK9cjWU",
        "outputId": "3480dd70-23c1-49e4-afed-8590d8796e7e"
      },
      "execution_count": 8,
      "outputs": [
        {
          "output_type": "display_data",
          "data": {
            "text/plain": [
              "<Figure size 640x480 with 1 Axes>"
            ],
            "image/png": "[encoded data removed]"
          },
          "metadata": {}
        }
      ]
    }
  ]
}