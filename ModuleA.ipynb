{
  "nbformat": 4,
  "nbformat_minor": 0,
  "metadata": {
    "colab": {
      "provenance": [],
      "authorship_tag": "ABX9TyM/u9FTbl2KG+SR2KONU2le",
      "include_colab_link": true
    },
    "kernelspec": {
      "name": "python3",
      "display_name": "Python 3"
    },
    "language_info": {
      "name": "python"
    }
  },
  "cells": [
    {
      "cell_type": "markdown",
      "metadata": {
        "id": "view-in-github",
        "colab_type": "text"
      },
      "source": [
        "<a href=\"https://colab.research.google.com/github/danikayoung16/MAT421/blob/main/ModuleA.ipynb\" target=\"_parent\"><img src=\"https://colab.research.google.com/assets/colab-badge.svg\" alt=\"Open In Colab\"/></a>"
      ]
    },
    {
      "cell_type": "markdown",
      "source": [
        "Module A: Section 9.1, 9.2, 9.3\n",
        "\n",
        "Danika Young"
      ],
      "metadata": {
        "id": "G4Akw2_W25JH"
      }
    },
    {
      "cell_type": "markdown",
      "source": [
        "# **Base-N and Binary**\n",
        "\n",
        "**Number Systems Overview**\n",
        "\n",
        "*   Decimal (Base-10): The number system humans commonly use, which has 10 digits (0-9). Each digit represents a power of 10.\n",
        "*   Binary (Base-2): Used in computers, consisting of only two digits: 0 and 1. Each digit (bit) represents a power of 2.\n",
        "*   Octal (Base-8): Uses 8 digits (0-7), where each digit represents a power of 8.\n",
        "*   Hexadecimal (Base-16): Uses 16 digits (0-9 and A-F, where A=10, B=11, ..., F=15) and is often used as shorthand for binary in computing.\n",
        "\n",
        "\n",
        "**Conversions**\n",
        "\n",
        "\n",
        "\n",
        "*   Decimal to Binary: Successively divide the number by 2, recording the remainders. Read the remainders from bottom to top.\n",
        "*   Binary to Decimal: Multiply each binary digit by its positional value (2 raised to the position) and sum the results.\n",
        "*   Binary to Octal/Hexadecimal: Group binary digits into sets of 3 (for octal) or 4 (for hexadecimal) from right to left and convert.\n",
        "\n",
        "\n",
        "**Binary Arithmetic**\n",
        "\n",
        "\n",
        "Similar to decimal arithmetic but follows these rules:\n",
        "*   Addition: 0+0=0, 1+0=1, 1+1=10 (carry 1).\n",
        "*   Subtraction: 0-0=0, 1-0=1, 1-1=0, 0-1=borrow (result=1).\n",
        "*   Multiplication and Division: Operates like decimal, but the base is 2.\n",
        "\n",
        "\n",
        "**Two’s Complement:** A method to represent negative numbers. Invert all bits (1's complement) and add 1."
      ],
      "metadata": {
        "id": "RKVVR5fu2_gI"
      }
    },
    {
      "cell_type": "code",
      "source": [
        "# Conversion Examples\n",
        "\n",
        "# Decimal to Binary, Octal, Hexadecimal\n",
        "decimal = 45\n",
        "binary = bin(decimal)  # 0b101101\n",
        "octal = oct(decimal)   # 0o55\n",
        "hexadecimal = hex(decimal)  # 0x2d\n",
        "\n",
        "print(f\"Decimal: {decimal}\")\n",
        "print(f\"Binary: {binary}\")\n",
        "print(f\"Octal: {octal}\")\n",
        "print(f\"Hexadecimal: {hexadecimal}\")\n",
        "\n",
        "\n",
        "# Binary Arithmetic\n",
        "\n",
        "a = 0b1101  # Binary for 13\n",
        "b = 0b1010  # Binary for 10\n",
        "\n",
        "# Addition\n",
        "binary_sum = a + b\n",
        "print(f\"Binary Addition: {bin(binary_sum)}\")  # Output: 0b10111\n",
        "\n",
        "\n",
        "# Example of Two's Complement\n",
        "\n",
        "n = -18\n",
        "two_complement = format((1 << 8) + n, '08b')  # 8-bit representation\n",
        "print(f\"Two's complement of {n}: {two_complement}\")\n"
      ],
      "metadata": {
        "colab": {
          "base_uri": "https://localhost:8080/"
        },
        "id": "12SLzAN-3Igv",
        "outputId": "acc140f6-74ea-46a3-e4a5-70e77c6d8e0a"
      },
      "execution_count": null,
      "outputs": [
        {
          "output_type": "stream",
          "name": "stdout",
          "text": [
            "Decimal: 45\n",
            "Binary: 0b101101\n",
            "Octal: 0o55\n",
            "Hexadecimal: 0x2d\n",
            "Binary Addition: 0b10111\n",
            "Two's complement of -18: 11101110\n"
          ]
        }
      ]
    },
    {
      "cell_type": "markdown",
      "source": [
        "# Floating Point Numbers\n",
        "\n",
        "**Floating-Point Representation**\n",
        "\n",
        "Follows the IEEE 754 Standard:\n",
        "* Sign: 1 bit, determines if the number is positive (0) or negative (1).\n",
        "* Exponent: Specifies the power of 2 (biased by 127 for single precision).\n",
        "* Mantissa: Stores the significant digits of the number.\n",
        "\n",
        "**Example**:\n",
        "\n",
        "For the number -6.5:\n",
        "\n",
        "Binary representation:\n",
        "*   Sign = 1 (negative number)\n",
        "*   Decimal part 6.5 = 110.1 in binary.\n",
        "*   Normalize 110.1 = 1.101 * 2^2\n",
        "*   Exponent = 127 + 2 = 129 in binary 10000001\n",
        "*   Mantissa = 101 (without leading 1, padded with zeros)\n",
        "\n",
        "\n",
        "** Precision Limitations **\n",
        "\n",
        "Floating-point numbers have finite precision, leading to rounding errors.\n",
        "\n",
        "Example: 0.1 + 0.2 does not equal 0.4 exactly due to representation limits\n",
        "\n",
        "\n",
        "\n",
        "\n",
        "\n"
      ],
      "metadata": {
        "id": "BHsfhhHj4HUr"
      }
    },
    {
      "cell_type": "code",
      "source": [
        "import numpy as np\n",
        "\n",
        "x = 3.14159\n",
        "binary_representation = format(np.float32(x).view('i'), '032b')\n",
        "print(f\"Binary representation of {x}: {binary_representation}\")\n"
      ],
      "metadata": {
        "colab": {
          "base_uri": "https://localhost:8080/"
        },
        "id": "mdac01m6gvDH",
        "outputId": "cf32e31a-c662-451b-b0bb-5d638f8328e5"
      },
      "execution_count": null,
      "outputs": [
        {
          "output_type": "stream",
          "name": "stdout",
          "text": [
            "Binary representation of 3.14159: 01000000010010010000111111010000\n"
          ]
        }
      ]
    },
    {
      "cell_type": "markdown",
      "source": [
        "**Special Numbers**\n",
        "\n",
        "\n",
        "\n",
        "*   Infinity: Results from dividing by zero or operations exceeding the range\n",
        "*   NaN (Not a Number): Indicates an undefined result, such as 0/0\n",
        "\n"
      ],
      "metadata": {
        "id": "GPSQERPfg53g"
      }
    },
    {
      "cell_type": "code",
      "source": [
        "print(f\"Positive Infinity: {np.inf}\")\n",
        "print(f\"NaN: {np.nan}\")\n"
      ],
      "metadata": {
        "colab": {
          "base_uri": "https://localhost:8080/"
        },
        "id": "UAt8HbXChCTG",
        "outputId": "22ba6382-a733-4f3e-df75-7e5c8acf17f6"
      },
      "execution_count": null,
      "outputs": [
        {
          "output_type": "stream",
          "name": "stdout",
          "text": [
            "Positive Infinity: inf\n",
            "NaN: nan\n"
          ]
        }
      ]
    },
    {
      "cell_type": "markdown",
      "source": [
        "# Round-off Errors\n",
        "\n",
        "**Source of Errors**\n",
        "\n",
        "\n",
        "\n",
        "*   Truncation: Occurs when a number is cut off after a certain number of digits.\n",
        "*   Precision Limitations: Due to finite representation of floating-point numbers.\n",
        "*   Accumulation: Small errors add up in iterative computations.\n",
        "\n",
        "**Examples:**\n",
        "\n",
        "*   Adding very small numbers to very large numbers can result in the smaller number being ignored.\n",
        "\n",
        "1e10+1e−10=1e10 due to precision loss\n",
        "*   Iterative errors:Repeatedly adding 0.1 can accumulate rounding errors\n",
        "\n",
        "\n",
        "**Mitigations**\n",
        "1. Use higher precision (ex: Decimal in Python)\n",
        "2. Rearrange operations for numerical stability\n",
        "\n",
        "\n"
      ],
      "metadata": {
        "id": "k8hgM3gWhFbX"
      }
    },
    {
      "cell_type": "code",
      "source": [
        "# Example of Round-off Error\n",
        "\n",
        "x = 0.1 + 0.2\n",
        "print(f\"0.1 + 0.2 = {x} (Expected: 0.3)\")\n",
        "\n",
        "\n",
        "# Accumulated Error in Iterative Calculations\n",
        "\n",
        "sum = 0.0\n",
        "for i in range(1000000):\n",
        "    sum += 0.000001\n",
        "print(f\"Sum of 1 million additions of 0.000001: {sum} (Expected: 1.0)\")\n",
        "\n",
        "\n",
        "# Using Decimal for Precision\n",
        "\n",
        "from decimal import Decimal\n",
        "\n",
        "a = Decimal('0.1')\n",
        "b = Decimal('0.2')\n",
        "c = a + b\n",
        "print(f\"0.1 + 0.2 using Decimal: {c}\")\n",
        "\n",
        "\n",
        "# Numerical Stability\n",
        "\n",
        "a = 1e10\n",
        "b = 1.0\n",
        "c = -1e10\n",
        "\n",
        "unstable_result = (a + b) + c\n",
        "stable_result = a + (b + c)\n",
        "\n",
        "print(f\"Unstable computation: {unstable_result}\")\n",
        "print(f\"Stable computation: {stable_result}\")\n"
      ],
      "metadata": {
        "colab": {
          "base_uri": "https://localhost:8080/"
        },
        "id": "yq0IYP5Th4Ed",
        "outputId": "a317dbf2-4cc7-4b3a-b6ae-001677d85fef"
      },
      "execution_count": null,
      "outputs": [
        {
          "output_type": "stream",
          "name": "stdout",
          "text": [
            "0.1 + 0.2 = 0.30000000000000004 (Expected: 0.3)\n",
            "Sum of 1 million additions of 0.000001: 1.000000000007918 (Expected: 1.0)\n",
            "0.1 + 0.2 using Decimal: 0.3\n",
            "Unstable computation: 1.0\n",
            "Stable computation: 1.0\n"
          ]
        }
      ]
    }
  ]
}