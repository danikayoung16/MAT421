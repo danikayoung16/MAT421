{
  "nbformat": 4,
  "nbformat_minor": 0,
  "metadata": {
    "colab": {
      "provenance": [],
      "authorship_tag": "ABX9TyOXDooipjEW8SXpIAZ1BmJ0",
      "include_colab_link": true
    },
    "kernelspec": {
      "name": "python3",
      "display_name": "Python 3"
    },
    "language_info": {
      "name": "python"
    }
  },
  "cells": [
    {
      "cell_type": "markdown",
      "metadata": {
        "id": "view-in-github",
        "colab_type": "text"
      },
      "source": [
        "<a href=\"https://colab.research.google.com/github/danikayoung16/MAT421/blob/main/MAT421_Project.ipynb\" target=\"_parent\"><img src=\"https://colab.research.google.com/assets/colab-badge.svg\" alt=\"Open In Colab\"/></a>"
      ]
    },
    {
      "cell_type": "markdown",
      "source": [
        "# **Running Plan Generator**\n",
        "\n",
        "Danika Young\n",
        "\n",
        "MAT421"
      ],
      "metadata": {
        "id": "p-6gZyDAOcOO"
      }
    },
    {
      "cell_type": "markdown",
      "source": [
        "# Introduction\n",
        "\n",
        "In this project, we develop an AI-powered fitness agent designed to assist runners in creating a personalized running training plan based on individual goals and experience levels.\n",
        "The agent uses the OpenAI GPT-3.5-turbo model to dynamically generate both:\n",
        "* a week-by-week running plan customized for the user’s race type (5K, 10K, Half-Marathon, or Marathon),\n",
        "* and a motivational quote to help maintain training momentum.\n",
        "\n",
        "The project demonstrates how Large Language Models (LLMs) can provide valuable, tailored advice in a real-world health and fitness context, combining structured planning with emotional encouragement."
      ],
      "metadata": {
        "id": "yFCOq0NuOW5B"
      }
    },
    {
      "cell_type": "code",
      "source": [
        "import openai\n",
        "import datetime\n",
        "import IPython.display as display\n",
        "from google.colab import files\n",
        "\n",
        "# Setup OpenAI client\n",
        "client = openai.OpenAI(api_key=\"sk-***\")"
      ],
      "metadata": {
        "id": "iQFRG6al4bsd"
      },
      "execution_count": null,
      "outputs": []
    },
    {
      "cell_type": "code",
      "source": [
        "# Colab Form Inputs\n",
        "race_type = \"5k\" #@param [\"5k\", \"10k\", \"Half-Marathon\", \"Marathon\"]\n",
        "goal_time = \"30\" #@param {type:\"string\"}\n",
        "experience_level = \"Intermediate\" #@param [\"Beginner\", \"Intermediate\", \"Advanced\"]\n",
        "weeks_until_race = 10 #@param {type:\"integer\"}\n",
        "\n",
        "# Combined Running Plan + Motivational Quote Generator\n",
        "def generate_running_plan_and_quote(race_type, goal_time, experience_level, weeks_until_race):\n",
        "    system_message = (\n",
        "        \"You are an expert running coach and motivational speaker. \"\n",
        "        \"First, create a detailed weekly running plan based on race type, goal time, experience level, and weeks until the race. \"\n",
        "        \"Include 4-5 runs per week, long runs, cross-training or rest suggestions. \"\n",
        "        \"After the running plan, on a new line, write a short, inspirational motivational quote (under 20 words) for the runner.\"\n",
        "    )\n",
        "\n",
        "    prompt = (\n",
        "        f\"I am training for a {race_type}. \"\n",
        "        f\"My goal time is {goal_time if goal_time else 'no specific time'}. \"\n",
        "        f\"I am a {experience_level.lower()} runner. \"\n",
        "        f\"I have {weeks_until_race} weeks to train. \"\n",
        "        f\"Please create my running plan and give me a motivational quote afterward.\"\n",
        "    )\n",
        "\n",
        "    response = client.chat.completions.create(\n",
        "        model=\"gpt-3.5-turbo\",\n",
        "        messages=[\n",
        "            {\"role\": \"system\", \"content\": system_message},\n",
        "            {\"role\": \"user\", \"content\": prompt}\n",
        "        ]\n",
        "    )\n",
        "\n",
        "    return response.choices[0].message.content.strip()\n",
        "\n",
        "# Save Running Plan to File\n",
        "def save_running_plan(plan_text):\n",
        "    filename = f\"running_plan_{datetime.datetime.now().strftime('%Y%m%d_%H%M%S')}.txt\"\n",
        "    with open(filename, \"w\") as file:\n",
        "        file.write(plan_text)\n",
        "    return filename\n",
        "\n",
        "# Main Execution\n",
        "print(\" Generating Your Personalized Running Plan and Motivational Quote... 🏃\")\n",
        "\n",
        "combined_output = generate_running_plan_and_quote(race_type, goal_time, experience_level, weeks_until_race)\n",
        "\n",
        "# Display nicely\n",
        "print(\"\\n Your Running Plan and Motivation:\\n\")\n",
        "print(combined_output)\n",
        "\n",
        "# Save to file\n",
        "saved_filename = save_running_plan(combined_output)\n",
        "\n",
        "# Offer download\n",
        "print(\"\\n Download your plan:\")\n",
        "files.download(saved_filename)\n"
      ],
      "metadata": {
        "colab": {
          "base_uri": "https://localhost:8080/",
          "height": 606
        },
        "id": "epI1-3geL50w",
        "outputId": "ae27eeeb-7b2f-4f49-a6a5-74df0a5432de"
      },
      "execution_count": null,
      "outputs": [
        {
          "output_type": "stream",
          "name": "stdout",
          "text": [
            " Generating Your Personalized Running Plan and Motivational Quote... 🏃\n",
            "\n",
            " Your Running Plan and Motivation:\n",
            "\n",
            "**Weeks 1-4:**\n",
            "1. Monday: Rest\n",
            "2. Tuesday: 3 miles at an easy pace\n",
            "3. Wednesday: Cross-training (cycling, swimming, or strength training)\n",
            "4. Thursday: 2 miles with intervals (1 min fast, 1 min slow)\n",
            "5. Friday: Rest\n",
            "6. Saturday: 3.5 miles at a comfortable pace\n",
            "7. Sunday: Rest\n",
            "\n",
            "**Weeks 5-8:**\n",
            "1. Monday: Rest\n",
            "2. Tuesday: 3.5 miles at an easy pace\n",
            "3. Wednesday: Cross-training\n",
            "4. Thursday: 2 miles with hill repeats\n",
            "5. Friday: Rest\n",
            "6. Saturday: 4 miles at a comfortable pace\n",
            "7. Sunday: Rest\n",
            "\n",
            "**Weeks 9-10:**\n",
            "1. Monday: Rest\n",
            "2. Tuesday: 3 miles at race pace\n",
            "3. Wednesday: Cross-training\n",
            "4. Thursday: 2 miles with intervals (30 sec fast, 30 sec slow)\n",
            "5. Friday: Rest\n",
            "6. Saturday: 2 miles easy jog\n",
            "7. Sunday: Race day! Run your 5k with confidence.\n",
            "\n",
            "Motivational quote: \"Believe in yourself, trust the process, and you will achieve greatness.\"\n",
            "\n",
            " Download your plan:\n"
          ]
        },
        {
          "output_type": "display_data",
          "data": {
            "text/plain": [
              "<IPython.core.display.Javascript object>"
            ],
            "application/javascript": [
              "\n",
              "    async function download(id, filename, size) {\n",
              "      if (!google.colab.kernel.accessAllowed) {\n",
              "        return;\n",
              "      }\n",
              "      const div = document.createElement('div');\n",
              "      const label = document.createElement('label');\n",
              "      label.textContent = `Downloading \"${filename}\": `;\n",
              "      div.appendChild(label);\n",
              "      const progress = document.createElement('progress');\n",
              "      progress.max = size;\n",
              "      div.appendChild(progress);\n",
              "      document.body.appendChild(div);\n",
              "\n",
              "      const buffers = [];\n",
              "      let downloaded = 0;\n",
              "\n",
              "      const channel = await google.colab.kernel.comms.open(id);\n",
              "      // Send a message to notify the kernel that we're ready.\n",
              "      channel.send({})\n",
              "\n",
              "      for await (const message of channel.messages) {\n",
              "        // Send a message to notify the kernel that we're ready.\n",
              "        channel.send({})\n",
              "        if (message.buffers) {\n",
              "          for (const buffer of message.buffers) {\n",
              "            buffers.push(buffer);\n",
              "            downloaded += buffer.byteLength;\n",
              "            progress.value = downloaded;\n",
              "          }\n",
              "        }\n",
              "      }\n",
              "      const blob = new Blob(buffers, {type: 'application/binary'});\n",
              "      const a = document.createElement('a');\n",
              "      a.href = window.URL.createObjectURL(blob);\n",
              "      a.download = filename;\n",
              "      div.appendChild(a);\n",
              "      a.click();\n",
              "      div.remove();\n",
              "    }\n",
              "  "
            ]
          },
          "metadata": {}
        },
        {
          "output_type": "display_data",
          "data": {
            "text/plain": [
              "<IPython.core.display.Javascript object>"
            ],
            "application/javascript": [
              "download(\"download_1eee3fd0-050c-4a37-b6fc-91dcb85c682a\", \"running_plan_20250428_022620.txt\", 837)"
            ]
          },
          "metadata": {}
        }
      ]
    },
    {
      "cell_type": "markdown",
      "source": [
        "In this notebook, we successfully:\n",
        "* Built a Fitness Tracker AI Agent using the OpenAI GPT-3.5-turbo model.\n",
        "* Collected user-specific information (race, goal, experience level, timeline).\n",
        "* Generated a complete week-by-week running plan dynamically.\n",
        "* Created a motivational quote in the same API call.\n",
        "* Organized and displayed outputs clearly for user convenience.\n",
        "* Saved outputs into downloadable files for offline access."
      ],
      "metadata": {
        "id": "eSWqBnX2Qeqi"
      }
    }
  ]
}