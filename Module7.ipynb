{
  "nbformat": 4,
  "nbformat_minor": 0,
  "metadata": {
    "colab": {
      "provenance": [],
      "authorship_tag": "ABX9TyMxa4ozhKt7QkSunYeiQF+9",
      "include_colab_link": true
    },
    "kernelspec": {
      "name": "python3",
      "display_name": "Python 3"
    },
    "language_info": {
      "name": "python"
    }
  },
  "cells": [
    {
      "cell_type": "markdown",
      "metadata": {
        "id": "view-in-github",
        "colab_type": "text"
      },
      "source": [
        "<a href=\"https://colab.research.google.com/github/danikayoung16/MAT421/blob/main/Module7.ipynb\" target=\"_parent\"><img src=\"https://colab.research.google.com/assets/colab-badge.svg\" alt=\"Open In Colab\"/></a>"
      ]
    },
    {
      "cell_type": "markdown",
      "source": [
        "Module J: Section 4.1 and 4.2\n",
        "\n",
        "Danika Young"
      ],
      "metadata": {
        "id": "Ij5V-IKDqKYo"
      }
    },
    {
      "cell_type": "markdown",
      "source": [
        "# Graph Construction and Visualization\n",
        "\n",
        "A graph consists of:\n",
        "- **Nodes (Vertices)**: represent entities\n",
        "- **Edges**: represent connections between entities\n",
        "\n",
        "Graphs can be:\n",
        "- **Undirected**: edges go both ways (e.g., Facebook friendship)\n",
        "- **Directed**: edges go one way (e.g., Twitter following)\n",
        "- **Weighted**: edges have numerical weights (e.g., distances, strengths)"
      ],
      "metadata": {
        "id": "_N2pMRtRqQWR"
      }
    },
    {
      "cell_type": "code",
      "source": [
        "import networkx as nx\n",
        "import matplotlib.pyplot as plt\n",
        "\n",
        "# Create a basic undirected graph with 5 nodes\n",
        "G = nx.Graph()\n",
        "G.add_edges_from([(0, 1), (1, 2), (2, 0), (3, 4), (2, 3)])\n",
        "\n",
        "plt.figure(figsize=(6, 5))\n",
        "nx.draw(G, with_labels=True, node_color='skyblue', node_size=800, font_weight='bold', edge_color='gray')\n",
        "plt.title(\"Undirected Graph Example\")\n",
        "plt.show()\n"
      ],
      "metadata": {
        "colab": {
          "base_uri": "https://localhost:8080/",
          "height": 558
        },
        "id": "5tSvyqArqWcl",
        "outputId": "e5bff2ba-f6ea-4c9f-ebad-0ccba35c5983"
      },
      "execution_count": 1,
      "outputs": [
        {
          "output_type": "display_data",
          "data": {
            "text/plain": [
              "<Figure size 600x500 with 1 Axes>"
            ],
            "image/png": "[encoded data removed]"
          },
          "metadata": {}
        }
      ]
    },
    {
      "cell_type": "markdown",
      "source": [
        "# Adjacency Matrix\n",
        "\n",
        "An **adjacency matrix A** is an `n x n` matrix where `A[i][j] = 1` if there is an edge between node i and node j, and 0 otherwise.\n",
        "\n",
        "- For **undirected graphs**, the matrix is symmetric.\n",
        "- For **weighted graphs**, the matrix holds weights instead of 1s."
      ],
      "metadata": {
        "id": "yek-0F4Lqbtx"
      }
    },
    {
      "cell_type": "code",
      "source": [
        "# Adjacency matrix (dense format)\n",
        "A = nx.adjacency_matrix(G).todense()\n",
        "print(\"Adjacency Matrix:\\n\", A)\n"
      ],
      "metadata": {
        "colab": {
          "base_uri": "https://localhost:8080/"
        },
        "id": "yXzyOTsgqgBi",
        "outputId": "437d87df-fa30-4389-ecd8-1ba9448a2cbb"
      },
      "execution_count": 2,
      "outputs": [
        {
          "output_type": "stream",
          "name": "stdout",
          "text": [
            "Adjacency Matrix:\n",
            " [[0 1 1 0 0]\n",
            " [1 0 1 0 0]\n",
            " [1 1 0 1 0]\n",
            " [0 0 1 0 1]\n",
            " [0 0 0 1 0]]\n"
          ]
        }
      ]
    },
    {
      "cell_type": "markdown",
      "source": [
        "# Degree Matrix\n",
        "\n",
        "The **degree matrix D** is a diagonal matrix where each entry D[i][i] is the number of edges connected to node `i`.\n",
        "\n",
        "It's useful for calculating the Laplacian matrix `L = D - A`."
      ],
      "metadata": {
        "id": "96egJzSrqhvi"
      }
    },
    {
      "cell_type": "code",
      "source": [
        "import numpy as np\n",
        "\n",
        "# Degree matrix (diagonal)\n",
        "degree_values = [val for (node, val) in G.degree()]\n",
        "D = np.diag(degree_values)\n",
        "print(\"Degree Matrix:\\n\", D)\n"
      ],
      "metadata": {
        "colab": {
          "base_uri": "https://localhost:8080/"
        },
        "id": "vYOuedf0qlSg",
        "outputId": "eb8a5fac-3725-4a1e-8099-ffaa51e254bf"
      },
      "execution_count": 3,
      "outputs": [
        {
          "output_type": "stream",
          "name": "stdout",
          "text": [
            "Degree Matrix:\n",
            " [[2 0 0 0 0]\n",
            " [0 2 0 0 0]\n",
            " [0 0 3 0 0]\n",
            " [0 0 0 2 0]\n",
            " [0 0 0 0 1]]\n"
          ]
        }
      ]
    },
    {
      "cell_type": "markdown",
      "source": [
        "# Incidence Matrix\n",
        "\n",
        "An **incidence matrix I** is an `n x m` matrix:\n",
        "- Rows = nodes\n",
        "- Columns = edges\n",
        "- Entry I[i][j] = 1 if node i is connected to edge j\n",
        "\n",
        "### Oriented vs. Unoriented:\n",
        "- **Oriented**: 1 for source, -1 for target\n",
        "- **Unoriented**: 1s for both nodes connected to an edge"
      ],
      "metadata": {
        "id": "WXjX8YMmqonk"
      }
    },
    {
      "cell_type": "code",
      "source": [
        "# Oriented incidence matrix\n",
        "I_oriented = nx.incidence_matrix(G, oriented=True).todense()\n",
        "print(\"Oriented Incidence Matrix:\\n\", I_oriented)\n",
        "\n",
        "# Unoriented (binary) incidence matrix\n",
        "I_unoriented = nx.incidence_matrix(G, oriented=False).todense()\n",
        "print(\"Unoriented Incidence Matrix:\\n\", I_unoriented)\n"
      ],
      "metadata": {
        "colab": {
          "base_uri": "https://localhost:8080/"
        },
        "id": "-THEn6iWqoS8",
        "outputId": "28abe519-b32c-48fc-c6ad-443d27875d32"
      },
      "execution_count": 4,
      "outputs": [
        {
          "output_type": "stream",
          "name": "stdout",
          "text": [
            "Oriented Incidence Matrix:\n",
            " [[-1. -1.  0.  0.  0.]\n",
            " [ 1.  0. -1.  0.  0.]\n",
            " [ 0.  1.  1. -1.  0.]\n",
            " [ 0.  0.  0.  1. -1.]\n",
            " [ 0.  0.  0.  0.  1.]]\n",
            "Unoriented Incidence Matrix:\n",
            " [[1. 1. 0. 0. 0.]\n",
            " [1. 0. 1. 0. 0.]\n",
            " [0. 1. 1. 1. 0.]\n",
            " [0. 0. 0. 1. 1.]\n",
            " [0. 0. 0. 0. 1.]]\n"
          ]
        }
      ]
    },
    {
      "cell_type": "markdown",
      "source": [
        "# Laplacian Matrix\n",
        "\n",
        "The **Laplacian matrix L** is defined as:\n",
        "\n",
        "L = D - A\n",
        "\n",
        "It reflects the structure of the graph and is widely used in:\n",
        "- Diffusion processes\n",
        "- Clustering\n",
        "- Spectral analysis\n",
        "\n",
        "Properties:\n",
        "- Symmetric\n",
        "- Positive semi-definite\n",
        "- First eigenvalue is always 0"
      ],
      "metadata": {
        "id": "2j5ziVVjquoN"
      }
    },
    {
      "cell_type": "code",
      "source": [
        "# Compute Laplacian\n",
        "L = nx.laplacian_matrix(G).todense()\n",
        "print(\"Laplacian Matrix:\\n\", L)"
      ],
      "metadata": {
        "colab": {
          "base_uri": "https://localhost:8080/"
        },
        "id": "g55z52leqyBW",
        "outputId": "1427fb57-0bc4-42e9-fc66-6f9ff1cf073a"
      },
      "execution_count": 5,
      "outputs": [
        {
          "output_type": "stream",
          "name": "stdout",
          "text": [
            "Laplacian Matrix:\n",
            " [[ 2 -1 -1  0  0]\n",
            " [-1  2 -1  0  0]\n",
            " [-1 -1  3 -1  0]\n",
            " [ 0  0 -1  2 -1]\n",
            " [ 0  0  0 -1  1]]\n"
          ]
        }
      ]
    },
    {
      "cell_type": "markdown",
      "source": [
        "#  Eigenvalues and Eigenvectors\n",
        "\n",
        "The eigenvalues of the Laplacian provide structural information:\n",
        "- **0** is always the smallest eigenvalue\n",
        "- The **second smallest eigenvalue (λ₂)** is called the **Fiedler value**\n",
        "  - If λ₂ > 0, the graph is connected\n",
        "  - λ₂ helps partition the graph into clusters"
      ],
      "metadata": {
        "id": "av2DbyZTrFcU"
      }
    },
    {
      "cell_type": "code",
      "source": [
        "# Compute eigenvalues and eigenvectors\n",
        "eigvals, eigvecs = np.linalg.eigh(L)\n",
        "\n",
        "print(\"Eigenvalues:\\n\", eigvals.round(3))\n",
        "print(\"Fiedler Vector (2nd smallest eigenvector):\\n\", eigvecs[:, 1].round(3))\n"
      ],
      "metadata": {
        "colab": {
          "base_uri": "https://localhost:8080/"
        },
        "id": "H3Uzy_o8rJ47",
        "outputId": "db2d0633-8605-4250-fa0b-5c54109cefd4"
      },
      "execution_count": 6,
      "outputs": [
        {
          "output_type": "stream",
          "name": "stdout",
          "text": [
            "Eigenvalues:\n",
            " [0.    0.519 2.311 3.    4.17 ]\n",
            "Fiedler Vector (2nd smallest eigenvector):\n",
            " [ 0.419  0.419  0.202 -0.338 -0.702]\n"
          ]
        }
      ]
    },
    {
      "cell_type": "markdown",
      "source": [
        "# Spectral Clustering Visualization\n",
        "\n",
        "\n",
        "Nodes are grouped based on the **sign** of their Fiedler vector value:\n",
        "- Negative → Cluster 1\n",
        "- Positive → Cluster 2\n",
        "\n",
        "This simple method separates the graph based on connectivity patterns."
      ],
      "metadata": {
        "id": "t-bIQ7UArMVf"
      }
    },
    {
      "cell_type": "code",
      "source": [
        "# Cluster nodes using the Fiedler vector\n",
        "fiedler_vector = eigvecs[:, 1]\n",
        "colors = ['red' if val < 0 else 'green' for val in fiedler_vector]\n",
        "\n",
        "nx.draw(G, with_labels=True, node_color=colors, node_size=800, font_weight='bold')\n",
        "plt.title(\"Spectral Clustering Using Fiedler Vector\")\n",
        "plt.show()\n"
      ],
      "metadata": {
        "colab": {
          "base_uri": "https://localhost:8080/",
          "height": 538
        },
        "id": "FdJkz_UurQMU",
        "outputId": "931c2d1f-c6c3-4728-9ae0-36a6068a482a"
      },
      "execution_count": 7,
      "outputs": [
        {
          "output_type": "display_data",
          "data": {
            "text/plain": [
              "<Figure size 640x480 with 1 Axes>"
            ],
            "image/png": "[encoded data removed]"
          },
          "metadata": {}
        }
      ]
    },
    {
      "cell_type": "markdown",
      "source": [
        "# Graph Partitioning: Ratio Cut\n",
        "\n",
        "The **ratio cut** balances the number of connections between partitions and the size of each partition:\n",
        "\n",
        "(V1,V2) = (V1,V2) / (|V1|) + (V1,V2) / (|V2|)\n",
        "\n",
        "\n",
        "A lower value indicates a better-balanced and cleaner partition."
      ],
      "metadata": {
        "id": "U3BEKuvUrS3a"
      }
    },
    {
      "cell_type": "code",
      "source": [
        "# Partition size for each group\n",
        "num_nodes = G.number_of_nodes()\n",
        "V1 = [i for i in range(num_nodes) if fiedler_vector[i] < 0]\n",
        "V2 = [i for i in range(num_nodes) if fiedler_vector[i] >= 0]\n",
        "\n",
        "cut_size = sum(1 for u, v in G.edges if (u in V1 and v in V2) or (u in V2 and v in V1))\n",
        "ratio_cut = cut_size / len(V1) + cut_size / len(V2)\n",
        "\n",
        "print(f\"Cut Size = {cut_size}\")\n",
        "print(f\"Ratio Cut = {ratio_cut:.2f}\")\n"
      ],
      "metadata": {
        "colab": {
          "base_uri": "https://localhost:8080/"
        },
        "id": "Ls1HyIIDrSiW",
        "outputId": "cc473eef-bb19-4bee-ed43-06f4adaece59"
      },
      "execution_count": 8,
      "outputs": [
        {
          "output_type": "stream",
          "name": "stdout",
          "text": [
            "Cut Size = 1\n",
            "Ratio Cut = 0.83\n"
          ]
        }
      ]
    }
  ]
}