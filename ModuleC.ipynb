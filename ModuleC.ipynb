{
  "nbformat": 4,
  "nbformat_minor": 0,
  "metadata": {
    "colab": {
      "provenance": [],
      "authorship_tag": "ABX9TyPsdXFttjQsSeUt9yP38Fel",
      "include_colab_link": true
    },
    "kernelspec": {
      "name": "python3",
      "display_name": "Python 3"
    },
    "language_info": {
      "name": "python"
    }
  },
  "cells": [
    {
      "cell_type": "markdown",
      "metadata": {
        "id": "view-in-github",
        "colab_type": "text"
      },
      "source": [
        "<a href=\"https://colab.research.google.com/github/danikayoung16/MAT421/blob/main/ModuleC.ipynb\" target=\"_parent\"><img src=\"https://colab.research.google.com/assets/colab-badge.svg\" alt=\"Open In Colab\"/></a>"
      ]
    },
    {
      "cell_type": "markdown",
      "source": [
        "Module C: Section 19.1, 19,2, 19.3, 19.4 19.5\n",
        "\n",
        "Danika Young"
      ],
      "metadata": {
        "id": "ZFvf4KgumhXI"
      }
    },
    {
      "cell_type": "markdown",
      "source": [
        "## Root Finding Problem Statement\n",
        "\n",
        "### Definition:\n",
        "A root-finding problem involves finding values of $x$ such that $f(x) = 0 $. These values are called **roots** or **zeros** of the function. Root-finding is essential in many scientific and engineering applications, such as physics, economics, and computer graphics.\n",
        "\n",
        "\n",
        "### Real-World Applications:\n",
        "Root-finding algorithms are used in various real-world applications such as:\n",
        "- Engineering (e.g., solving for equilibrium points in mechanical systems)\n",
        "- Finance (e.g., computing interest rates)\n",
        "- Physics (e.g., solving motion equations)"
      ],
      "metadata": {
        "id": "_f99GbzEms2U"
      }
    },
    {
      "cell_type": "code",
      "source": [
        "# This visualization helps to identify approximate locations of the root for the function f(x) = x^3 - x - 2\n",
        "\n",
        "import numpy as np\n",
        "import matplotlib.pyplot as plt\n",
        "\n",
        "def f(x):\n",
        "    return x**3 - x - 2\n",
        "\n",
        "x_vals = np.linspace(-2, 2, 100)\n",
        "y_vals = f(x_vals)\n",
        "\n",
        "plt.axhline(0, color='black', linewidth=1)\n",
        "plt.plot(x_vals, y_vals, label=\"$f(x) = x^3 - x - 2$\")\n",
        "plt.xlabel(\"x\")\n",
        "plt.ylabel(\"f(x)\")\n",
        "plt.legend()\n",
        "plt.grid()\n",
        "plt.title(\"Visualization of Root Finding Problem\")\n",
        "plt.show()"
      ],
      "metadata": {
        "colab": {
          "base_uri": "https://localhost:8080/",
          "height": 472
        },
        "id": "EOd3t2ZKnPNk",
        "outputId": "87f3895d-9626-4f7f-ff75-1b5630c1cbba"
      },
      "execution_count": 1,
      "outputs": [
        {
          "output_type": "display_data",
          "data": {
            "text/plain": [
              "<Figure size 640x480 with 1 Axes>"
            ],
            "image/png": "[encoded data removed]"
          },
          "metadata": {}
        }
      ]
    },
    {
      "cell_type": "code",
      "source": [
        "# A simple case of root finding is solving a quadratic equation ax^2 + bx + c = 0 .\n",
        "import math\n",
        "\n",
        "def quadratic_roots(a, b, c):\n",
        "    discriminant = b**2 - 4*a*c\n",
        "    if discriminant < 0:\n",
        "        return \"No real roots\"\n",
        "    root1 = (-b - math.sqrt(discriminant)) / (2 * a)\n",
        "    root2 = (-b + math.sqrt(discriminant)) / (2 * a)\n",
        "    return root1, root2\n",
        "\n",
        "# Example: Solve x^2 - 5x + 6 = 0\n",
        "a, b, c = 1, -5, 6\n",
        "roots = quadratic_roots(a, b, c)\n",
        "print(\"Roots of the quadratic equation:\", roots)"
      ],
      "metadata": {
        "colab": {
          "base_uri": "https://localhost:8080/"
        },
        "id": "J-m2iK3anoUD",
        "outputId": "2b9230a5-917d-4d39-993b-d33240980f13"
      },
      "execution_count": 4,
      "outputs": [
        {
          "output_type": "stream",
          "name": "stdout",
          "text": [
            "Roots of the quadratic equation: (2.0, 3.0)\n"
          ]
        }
      ]
    },
    {
      "cell_type": "markdown",
      "source": [
        "## Tolerance\n",
        "\n",
        "### Definition:\n",
        "Tolerance defines the acceptable error range for numerical approximations. It ensures the solution is accurate enough but avoids excessive computation. A smaller tolerance leads to more precise results but may require more iterations.\n",
        "\n",
        "\n",
        "Choosing an appropriate tolerance depends on the problem’s required precision and computational efficiency."
      ],
      "metadata": {
        "id": "hmOXl_WgoSia"
      }
    },
    {
      "cell_type": "code",
      "source": [
        "tolerances = [1e-1, 1e-3, 1e-6, 1e-9]\n",
        "for tol in tolerances:\n",
        "    print(f\"Using tolerance of {tol}\")"
      ],
      "metadata": {
        "colab": {
          "base_uri": "https://localhost:8080/"
        },
        "id": "b_hKBypEoXdv",
        "outputId": "01c0205a-1c5c-4103-d78a-e84dddfd5c2e"
      },
      "execution_count": 7,
      "outputs": [
        {
          "output_type": "stream",
          "name": "stdout",
          "text": [
            "Using tolerance of 0.1\n",
            "Using tolerance of 0.001\n",
            "Using tolerance of 1e-06\n",
            "Using tolerance of 1e-09\n"
          ]
        }
      ]
    },
    {
      "cell_type": "code",
      "source": [
        "def sample_function(x):\n",
        "    return x**2 - 2\n",
        "\n",
        "def approximate_root(tol):\n",
        "    a, b = 1, 2\n",
        "    while (b - a) / 2 > tol:\n",
        "        midpoint = (a + b) / 2\n",
        "        if sample_function(midpoint) == 0:\n",
        "            return midpoint\n",
        "        elif sample_function(a) * sample_function(midpoint) < 0:\n",
        "            b = midpoint\n",
        "        else:\n",
        "            a = midpoint\n",
        "    return (a + b) / 2\n",
        "\n",
        "for tol in tolerances:\n",
        "    root = approximate_root(tol)\n",
        "    print(f\"Root found with tolerance {tol}: {root}\")"
      ],
      "metadata": {
        "colab": {
          "base_uri": "https://localhost:8080/"
        },
        "id": "xOd3EflBpcvo",
        "outputId": "b4784bc3-a745-405f-c521-911ea21f249a"
      },
      "execution_count": 8,
      "outputs": [
        {
          "output_type": "stream",
          "name": "stdout",
          "text": [
            "Root found with tolerance 0.1: 1.4375\n",
            "Root found with tolerance 0.001: 1.4150390625\n",
            "Root found with tolerance 1e-06: 1.4142141342163086\n",
            "Root found with tolerance 1e-09: 1.4142135614529252\n"
          ]
        }
      ]
    },
    {
      "cell_type": "markdown",
      "source": [
        "## Bisection Method\n",
        "\n",
        "### Explanation:\n",
        "- The **Bisection Method** is a numerical technique for finding roots of a function in a given interval \\([a, b]\\) where \\( f(a) \\) and \\( f(b) \\) have opposite signs.\n",
        "- The method works by repeatedly dividing the interval into two halves and selecting the half where the function changes sign.\n",
        "- The process continues until the difference between consecutive midpoints is smaller than the specified tolerance.\n",
        "\n",
        "\n",
        "### Advantages:\n",
        "- Always converges to a root (if one exists in the interval)\n",
        "- Simple and robust\n",
        "\n",
        "### Disadvantages:\n",
        "- Slower compared to other methods\n",
        "- Requires an initial interval where the function changes sign\n"
      ],
      "metadata": {
        "id": "jEPkVel-ph7F"
      }
    },
    {
      "cell_type": "code",
      "source": [
        "# Finding the root of f(x) = x^3 - x - 2 using the Bisection Method\n",
        "\n",
        "\n",
        "def bisection_method(f, a, b, tol):\n",
        "    if f(a) * f(b) >= 0:\n",
        "        raise ValueError(\"Function values at a and b must have opposite signs.\")\n",
        "\n",
        "    while (b - a) / 2 > tol:\n",
        "        midpoint = (a + b) / 2\n",
        "        if f(midpoint) == 0:\n",
        "            return midpoint\n",
        "        elif f(a) * f(midpoint) < 0:\n",
        "            b = midpoint\n",
        "        else:\n",
        "            a = midpoint\n",
        "\n",
        "    return (a + b) / 2\n",
        "\n",
        "\n",
        "root_bisection = bisection_method(f, 1, 2, 1e-6)\n",
        "print(f\"Root found using Bisection Method: {root_bisection}\")"
      ],
      "metadata": {
        "colab": {
          "base_uri": "https://localhost:8080/"
        },
        "id": "t1TS0OcIppxe",
        "outputId": "b99de234-e154-41b7-ce7e-c840c5edbeea"
      },
      "execution_count": 9,
      "outputs": [
        {
          "output_type": "stream",
          "name": "stdout",
          "text": [
            "Root found using Bisection Method: 1.5213804244995117\n"
          ]
        }
      ]
    },
    {
      "cell_type": "markdown",
      "source": [
        "## Newton-Raphson Method\n",
        "\n",
        "### Explanation:\n",
        "- The **Newton-Raphson Method** is an iterative method that uses derivatives to approximate the root.\n",
        "- The formula used is:\n",
        "  \\[ x_{n+1} = x_n - \\frac{f(x_n)}{f'(x_n)} \\]\n",
        "- This method converges much faster than the Bisection Method but requires that the derivative of the function be known.\n",
        "\n",
        "### Advantages:\n",
        "- Fast convergence\n",
        "- Efficient for well-behaved functions\n",
        "\n",
        "### Disadvantages:\n",
        "- Requires computing the derivative \\( f'(x) \\)\n",
        "- May fail if \\( f'(x) = 0 \\) at any point in the iteration\n",
        "- Not always guaranteed to converge"
      ],
      "metadata": {
        "id": "FW5KIjWKpyU4"
      }
    },
    {
      "cell_type": "code",
      "source": [
        "# Using Newton-Raphson to find the root of f(x) = x^3 - x - 2.\n",
        "\n",
        "def df(x):\n",
        "    return 3*x**2 - 1\n",
        "\n",
        "def newton_raphson(f, df, x0, tol, max_iter=100):\n",
        "    x = x0\n",
        "    for _ in range(max_iter):\n",
        "        x_new = x - f(x) / df(x)\n",
        "        if abs(x_new - x) < tol:\n",
        "            return x_new\n",
        "        x = x_new\n",
        "    return x\n",
        "\n",
        "\n",
        "root_newton = newton_raphson(f, df, 1.5, 1e-6)\n",
        "print(f\"Root found using Newton-Raphson Method: {root_newton}\")"
      ],
      "metadata": {
        "colab": {
          "base_uri": "https://localhost:8080/"
        },
        "id": "dg7LmXTOp6_x",
        "outputId": "7fd8f2d1-6f0d-4e4a-b03b-35b6ebed96b3"
      },
      "execution_count": 10,
      "outputs": [
        {
          "output_type": "stream",
          "name": "stdout",
          "text": [
            "Root found using Newton-Raphson Method: 1.5213797068045751\n"
          ]
        }
      ]
    },
    {
      "cell_type": "markdown",
      "source": [
        "## Conclusion\n",
        "\n",
        "- **Bisection Method** is reliable but slower, suitable for cases where the function changes sign in a given interval.\n",
        "- **Newton-Raphson Method** is faster but requires the derivative and may fail in some cases.\n",
        "- Tolerance plays a crucial role in ensuring accuracy while keeping computations efficient.\n",
        "- Both methods approximate the root of \\( f(x) = x^3 - x - 2 \\) effectively."
      ],
      "metadata": {
        "id": "sk_Iy3ZsqN3f"
      }
    }
  ]
}